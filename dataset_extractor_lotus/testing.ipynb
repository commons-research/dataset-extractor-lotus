{
 "cells": [
  {
   "cell_type": "code",
   "execution_count": 1,
   "id": "03c0d4fb-7203-4968-b3ad-043884500dab",
   "metadata": {},
   "outputs": [
    {
     "data": {
      "text/plain": [
       "<polars.config.Config at 0x7effc5d99cc0>"
      ]
     },
     "execution_count": 1,
     "metadata": {},
     "output_type": "execute_result"
    }
   ],
   "source": [
    "import polars as pl  # for data manipulation\n",
    "import numpy as np  # specialy for NaN\n",
    "import sys  # for command line arguments\n",
    "import getopt  # for checking command line arguments\n",
    "import datetime  # for naming the output file\n",
    "\n",
    "import zenodo_downloader as zd\n",
    "from InquirerPy.validator import PathValidator\n",
    "\n",
    "def read_LOTUS_dataset(file_to_sample):\n",
    "    df = pl.read_csv(\n",
    "        file_to_sample,\n",
    "        dtypes={\n",
    "            \"structure_xlogp\": pl.Float32,\n",
    "            \"structure_cid\": pl.UInt32,\n",
    "            \"organism_taxonomy_ncbiid\": pl.UInt32,\n",
    "            \"organism_taxonomy_ottid\": pl.UInt32,\n",
    "            \"structure_stereocenters_total\": pl.UInt32,\n",
    "            \"structure_stereocenters_unspecified\": pl.UInt32,\n",
    "        },\n",
    "        separator=\",\",\n",
    "        infer_schema_length=50000,\n",
    "        null_values=[\"\", \"NA\"],\n",
    "    )\n",
    "\n",
    "    # print(\"Before type: \", df[\"organism_taxonomy_gbifid\"].dtype)\n",
    "\n",
    "    if not df[\"organism_taxonomy_gbifid\"].dtype.is_numeric():\n",
    "        df = df.with_columns(\n",
    "            pl.col(\"organism_taxonomy_gbifid\")\n",
    "            .map_elements(lambda x: np.nan if x.startswith(\"c(\") else x, return_dtype=pl.Float64)\n",
    "            .cast(pl.Int32, strict=False)  # Cast with strict=False to allow NaN to be retained\n",
    "            .alias(\"organism_taxonomy_gbifid\")\n",
    "        )\n",
    "    else:\n",
    "        df = df.with_columns(\n",
    "            pl.col(\"organism_taxonomy_gbifid\")\n",
    "            .cast(pl.Int32, strict=False)  # Cast with strict=False to allow NaN to be retained\n",
    "            .alias(\"organism_taxonomy_gbifid\")\n",
    "        )\n",
    "\n",
    "    # print(\"After type: \", df[\"organism_taxonomy_gbifid\"].dtype)\n",
    "    return df\n",
    "\n",
    "pl.Config(fmt_str_lengths=550)\n"
   ]
  },
  {
   "cell_type": "code",
   "execution_count": 2,
   "id": "ff797fe0-ce88-4df9-9269-d9371a23436b",
   "metadata": {},
   "outputs": [],
   "source": [
    "df = read_LOTUS_dataset(\"../data/230106_frozen_metadata.csv.gz\")\n",
    "\n",
    "df = df.select(\n",
    "                [\n",
    "                \"structure_wikidata\",\n",
    "                \"structure_smiles\",\n",
    "                ]\n",
    "            ).rename(\n",
    "                {\n",
    "                \"structure_wikidata\": \"id\",\n",
    "                \"structure_smiles\": \"smiles\"\n",
    "                }\n",
    "            ).unique()"
   ]
  },
  {
   "cell_type": "code",
   "execution_count": 3,
   "id": "6c9bda2b-3811-4635-a896-ba2ddf0cc836",
   "metadata": {},
   "outputs": [
    {
     "data": {
      "text/html": [
       "<div><style>\n",
       ".dataframe > thead > tr,\n",
       ".dataframe > tbody > tr {\n",
       "  text-align: right;\n",
       "  white-space: pre-wrap;\n",
       "}\n",
       "</style>\n",
       "<small>shape: (220_834, 2)</small><table border=\"1\" class=\"dataframe\"><thead><tr><th>id</th><th>smiles</th></tr><tr><td>str</td><td>str</td></tr></thead><tbody><tr><td>&quot;http://www.wikidata.org/entity/Q104913721&quot;</td><td>&quot;COC1=CC[C@]23CCN(C)[C@@]24C[C@H](O[C@@]14O)c1ccc(OC)c(OC)c13&quot;</td></tr><tr><td>&quot;http://www.wikidata.org/entity/Q77380861&quot;</td><td>&quot;COC(=O)[C@H](C)CNC(=O)[C@H](Cc1ccc(OC)c(Cl)c1)NC(=O)/C=C/C[C@H](OC(=O)[C@@H](O)CC(C)C)[C@H](C)[C@H]1O[C@@H]1c1ccccc1&quot;</td></tr><tr><td>&quot;http://www.wikidata.org/entity/Q105251498&quot;</td><td>&quot;CC(/C=C/[C@]1(C)[C@H](C)CCC(=O)[C@H]1C)=C\\Cc1c(O)c(Cl)c(C)c(C=O)c1O&quot;</td></tr><tr><td>&quot;http://www.wikidata.org/entity/Q105361919&quot;</td><td>&quot;Cc1ccc2c(c1)O[C@H](C[C@H](C)O)C[C@@H]2C&quot;</td></tr><tr><td>&quot;http://www.wikidata.org/entity/Q104995341&quot;</td><td>&quot;CC(=O)OC/C=C/C#CC#C/C=C/C=C/[C@@H](CCOC(C)=O)OC(C)=O&quot;</td></tr><tr><td>&hellip;</td><td>&hellip;</td></tr><tr><td>&quot;http://www.wikidata.org/entity/Q105273276&quot;</td><td>&quot;COc1cc(-c2oc3cc(O)cc(O)c3c(=O)c2O[C@@H]2O[C@@H](CO[C@@H]3O[C@@H](C)[C@H](O)[C@@H](O)[C@H]3O)[C@@H](O)[C@H](O)[C@H]2O)ccc1O&quot;</td></tr><tr><td>&quot;http://www.wikidata.org/entity/Q105028059&quot;</td><td>&quot;COc1cc([C@H]2OC[C@H]3[C@H]2CO[C@H]3c2ccc(O)c(OC)c2)ccc1O&quot;</td></tr><tr><td>&quot;http://www.wikidata.org/entity/Q105143876&quot;</td><td>&quot;CC1(C)CC(=O)C=C(CO)[C@H]1CO[C@@H]1O[C@H](CO)[C@@H](O)[C@H](O)[C@H]1O&quot;</td></tr><tr><td>&quot;http://www.wikidata.org/entity/Q110077718&quot;</td><td>&quot;[C-]#[N+]C12C3OC3C(C)(C)c3[nH]c4cccc5c4c3C1(O)C(CC(Cl)C2(C)C=C)C5(C)C&quot;</td></tr><tr><td>&quot;http://www.wikidata.org/entity/Q105177647&quot;</td><td>&quot;C[C@@H]1CC[C@@]2(OC1)O[C@H]1C[C@H]3[C@@H]4CC[C@H]5C[C@@H](O[C@@H]6O[C@H](CO)[C@H](O[C@@H]7O[C@H](CO)[C@@H](O)[C@H](O[C@@H]8O[C@H](CO)[C@@H](O)[C@H](O)[C@H]8O)[C@H]7O[C@@H]7OC[C@@H](O)[C@H](O)[C@H]7O)[C@H](O)[C@H]6O)CC[C@]5(C)[C@H]4CC[C@]3(C)[C@H]1[C@@H]2C&quot;</td></tr></tbody></table></div>"
      ],
      "text/plain": [
       "shape: (220_834, 2)\n",
       "┌───────────────────────────────────────────┬──────────────────────────────────────────────────────┐\n",
       "│ id                                        ┆ smiles                                               │\n",
       "│ ---                                       ┆ ---                                                  │\n",
       "│ str                                       ┆ str                                                  │\n",
       "╞═══════════════════════════════════════════╪══════════════════════════════════════════════════════╡\n",
       "│ http://www.wikidata.org/entity/Q104913721 ┆ COC1=CC[C@]23CCN(C)[C@@]24C[C@H](O[C@@]14O)c1ccc(OC) │\n",
       "│                                           ┆ c(OC)c13                                             │\n",
       "│ http://www.wikidata.org/entity/Q77380861  ┆ COC(=O)[C@H](C)CNC(=O)[C@H](Cc1ccc(OC)c(Cl)c1)NC(=O) │\n",
       "│                                           ┆ /C=C/C[C@H](OC(=O)[C@@H](O)CC(C)C)[C@H](C)[C@H]1O[C@ │\n",
       "│                                           ┆ @H]1c1ccccc1                                         │\n",
       "│ http://www.wikidata.org/entity/Q105251498 ┆ CC(/C=C/[C@]1(C)[C@H](C)CCC(=O)[C@H]1C)=C\\Cc1c(O)c(C │\n",
       "│                                           ┆ l)c(C)c(C=O)c1O                                      │\n",
       "│ http://www.wikidata.org/entity/Q105361919 ┆ Cc1ccc2c(c1)O[C@H](C[C@H](C)O)C[C@@H]2C              │\n",
       "│ http://www.wikidata.org/entity/Q104995341 ┆ CC(=O)OC/C=C/C#CC#C/C=C/C=C/[C@@H](CCOC(C)=O)OC(C)=O │\n",
       "│ …                                         ┆ …                                                    │\n",
       "│ http://www.wikidata.org/entity/Q105273276 ┆ COc1cc(-c2oc3cc(O)cc(O)c3c(=O)c2O[C@@H]2O[C@@H](CO[C │\n",
       "│                                           ┆ @@H]3O[C@@H](C)[C@H](O)[C@@H](O)[C@H]3O)[C@@H](O)[C@ │\n",
       "│                                           ┆ H](O)[C@H]2O)ccc1O                                   │\n",
       "│ http://www.wikidata.org/entity/Q105028059 ┆ COc1cc([C@H]2OC[C@H]3[C@H]2CO[C@H]3c2ccc(O)c(OC)c2)c │\n",
       "│                                           ┆ cc1O                                                 │\n",
       "│ http://www.wikidata.org/entity/Q105143876 ┆ CC1(C)CC(=O)C=C(CO)[C@H]1CO[C@@H]1O[C@H](CO)[C@@H](O │\n",
       "│                                           ┆ )[C@H](O)[C@H]1O                                     │\n",
       "│ http://www.wikidata.org/entity/Q110077718 ┆ [C-]#[N+]C12C3OC3C(C)(C)c3[nH]c4cccc5c4c3C1(O)C(CC(C │\n",
       "│                                           ┆ l)C2(C)C=C)C5(C)C                                    │\n",
       "│ http://www.wikidata.org/entity/Q105177647 ┆ C[C@@H]1CC[C@@]2(OC1)O[C@H]1C[C@H]3[C@@H]4CC[C@H]5C[ │\n",
       "│                                           ┆ C@@H](O[C@@H]6O[C@H](CO)[C@H](O[C@@H]7O[C@H](CO)[C@@ │\n",
       "│                                           ┆ H](O)[C@H](O[C@@H]8O[C@H](CO)[C@@H](O)[C@H](O)[C@H]8 │\n",
       "│                                           ┆ O)[C@H]7O[C@@H]7OC[C@@H](O)[C@H](O)[C@H]7O)[C@H](O)[ │\n",
       "│                                           ┆ C@H]6O)CC[C@]5(C)[C@H]4CC[C@]3(C)[C@H]1[C@@H]2C      │\n",
       "└───────────────────────────────────────────┴──────────────────────────────────────────────────────┘"
      ]
     },
     "execution_count": 3,
     "metadata": {},
     "output_type": "execute_result"
    }
   ],
   "source": [
    "# Group by the 'id' column and create a new DataFrame with numbered IDs only for duplicates\n",
    "grouped_df = df.group_by('id').agg(pl.col('smiles'))\n",
    "\n",
    "# Function to add an index number if there are multiple SMILES for the same ID\n",
    "def apply_index(row):\n",
    "    smiles_list = row['smiles']\n",
    "    id = row['id']\n",
    "    if len(smiles_list) > 1:\n",
    "        return [(id + f\"_id{i+1}\", smiles) for i, smiles in enumerate(smiles_list)]\n",
    "    else:\n",
    "        return [(id, smiles_list[0])]\n",
    "\n",
    "# Apply the function to each group and flatten the list of lists into a single list of tuples\n",
    "indexed_smiles = [entry for row in grouped_df.to_dicts() for entry in apply_index(row)]\n",
    "\n",
    "# Convert the list of tuples back to a Polars DataFrame\n",
    "indexed_df = pl.DataFrame(indexed_smiles, schema=[\"id\", \"smiles\"])\n",
    "\n",
    "indexed_df"
   ]
  },
  {
   "cell_type": "code",
   "execution_count": 4,
   "id": "e1fa41a0-0d97-4959-8825-3f3573a81601",
   "metadata": {},
   "outputs": [
    {
     "name": "stdout",
     "output_type": "stream",
     "text": [
      "shape: (102, 2)\n",
      "┌──────────────────────────────────────────────┬───────────────────────────────────────────────────┐\n",
      "│ id                                           ┆ smiles                                            │\n",
      "│ ---                                          ┆ ---                                               │\n",
      "│ str                                          ┆ str                                               │\n",
      "╞══════════════════════════════════════════════╪═══════════════════════════════════════════════════╡\n",
      "│ http://www.wikidata.org/entity/Q5172181_id1  ┆ CC[C@H]1C[C@@H]2CN3CCc4c([nH]c5ccccc45)[C@](C(=O) │\n",
      "│                                              ┆ OC)(C2)[C@H]13                                    │\n",
      "│ http://www.wikidata.org/entity/Q5172181_id2  ┆ CC[C@H]1C[C@H]2CN3CCc4c([nH]c5ccccc45)[C@](C(=O)O │\n",
      "│                                              ┆ C)(C2)[C@H]13                                     │\n",
      "│ http://www.wikidata.org/entity/Q988591_id1   ┆ CC/C=C\\[C@@H]1C=CCC=CC1                           │\n",
      "│ http://www.wikidata.org/entity/Q988591_id2   ┆ CC/C=C/[C@@H]1C=CCC=CC1                           │\n",
      "│ http://www.wikidata.org/entity/Q904668_id1   ┆ CCCC(=O)C1=C(O)C(C)(C)C(O)=C(Cc2c(OC)cc(O)c(C(=O) │\n",
      "│                                              ┆ CCC)c2O)C1=O                                      │\n",
      "│ …                                            ┆ …                                                 │\n",
      "│ http://www.wikidata.org/entity/Q27110116_id2 ┆ CC[C@H](C)[C@H]1O[C@]2(C=C[C@@H]1C)C[C@@H]1C[C@@H │\n",
      "│                                              ┆ ](C/C=C(\\C)[C@@H](O[C@H]3C[C@H](OC)[C@@H](O[C@H]4 │\n",
      "│                                              ┆ C[C@H](OC)[C@@H](O)[C@H](C)O4)[C@H](C)O3)[C@@H](C │\n",
      "│                                              ┆ )/C=C/C=C3\\CO[C@@H]4[C@H](OC)C(C)=C[C@@H](C(=O)O1 │\n",
      "│                                              ┆ )[C@]34O)O2                                       │\n",
      "│ http://www.wikidata.org/entity/Q27108380_id1 ┆ C=C1CC[C@]2(C)CC[C@]3(C)[C@H](CC[C@@H]4[C@@]5(C)C │\n",
      "│                                              ┆ C[C@H](O)C(C)(C)[C@@H]5CC[C@]43C)[C@@H]2[C@@H]1C  │\n",
      "│ http://www.wikidata.org/entity/Q27108380_id2 ┆ C=C1CC[C@]2(C)CC[C@]3(C)[C@H](CC[C@@H]4[C@@]5(C)C │\n",
      "│                                              ┆ C[C@H](O)C(C)(C)[C@@H]5CC[C@]43C)[C@H]2[C@@H]1C   │\n",
      "│ http://www.wikidata.org/entity/Q27155645_id1 ┆ CC[C@H](C)[C@H]1C(=O)O[C@H]2c3cc(C)cc(O)c3C3=C(C( │\n",
      "│                                              ┆ =O)c4c(O)cccc4C3=O)N12                            │\n",
      "│ http://www.wikidata.org/entity/Q27155645_id2 ┆ CC[C@H](C)[C@H]1C(=O)OC2c3cc(C)cc(O)c3C3=C(C(=O)c │\n",
      "│                                              ┆ 4c(O)cccc4C3=O)N21                                │\n",
      "└──────────────────────────────────────────────┴───────────────────────────────────────────────────┘\n"
     ]
    }
   ],
   "source": [
    "indexed_df\n",
    "\n",
    "# Filter rows where the 'id' column contains the substring 'saying'\n",
    "filtered_df = indexed_df.filter(pl.col('id').str.contains('_id'))\n",
    "\n",
    "# Print the filtered DataFrame\n",
    "print(filtered_df)"
   ]
  },
  {
   "cell_type": "code",
   "execution_count": 5,
   "id": "b2e8b24a-8931-4146-ad6e-e318b873ab51",
   "metadata": {},
   "outputs": [
    {
     "name": "stdout",
     "output_type": "stream",
     "text": [
      "id: (220834, 2)\n",
      "smiles: (220820, 2)\n"
     ]
    }
   ],
   "source": [
    "id_shape = indexed_df.unique(subset=[\"id\"]).shape\n",
    "\n",
    "smiles_shape = indexed_df.unique(subset=[\"smiles\"]).shape\n",
    "\n",
    "print(f'id: {id_shape}\\nsmiles: {smiles_shape}')"
   ]
  }
 ],
 "metadata": {
  "kernelspec": {
   "display_name": "Python 3 (ipykernel)",
   "language": "python",
   "name": "python3"
  },
  "language_info": {
   "codemirror_mode": {
    "name": "ipython",
    "version": 3
   },
   "file_extension": ".py",
   "mimetype": "text/x-python",
   "name": "python",
   "nbconvert_exporter": "python",
   "pygments_lexer": "ipython3",
   "version": "3.10.12"
  }
 },
 "nbformat": 4,
 "nbformat_minor": 5
}
